{
 "cells": [
  {
   "cell_type": "markdown",
   "id": "5af38d7c",
   "metadata": {},
   "source": [
    "### Web Kazıma ile Rakip ve Fiyat Analizi\n",
    "\n",
    "**İş Problemi**\n",
    "\n",
    "Online kitap satışı yapan bir şirket, “Seyahat” ve “Kurgu Dışı” kategorilerinde az satış yaptığını tespit ediyor.\n",
    "\n",
    "Bu sebeple şirketin, rakip firmanın kazınması izin verilen https://books.toscrape.com/ adlı web sitesinden “Travel” ve “Nonfiction” kategorisindeki kitaplara ait bilgileri alıp rakip ve fiyat analizi yapmaya ihtiyacı var.\n",
    "\n",
    "Şirket sizden, bu kategorilerdeki her bir kitaba ait detay sayfalarına gitmenizi ve orada bulunan bazı bilgileri almanızı bekliyor.\n",
    "\n",
    "**Projede İstenilen Akış**\n",
    "\n",
    "\"Travel\" ve \"Nonfiction\" kategorilerine ait kitapların yer aldığı sayfa linkleri ana sayfa içerisinden alınmalı.\n",
    "\n",
    "Sonrasında ilk kategoriye ait ürünlerin bulunduğu sayfa görüntülenerek, tüm kitapların detay sayfalarına erişmek için linkler kazınmalı.\n",
    "\n",
    "Kazınan linkler kullanılarak o kategoriye ait tüm kitapların detay bilgileri kazınmalı.\n",
    "\n",
    "Adım 2 ve 3’ü diğer kategori için de yapabilmek adına sistem otomatize edilmeli.\n",
    "\n",
    "#### Görev 1: Tarayıcıyı Konfigüre Etme ve Başlatma\n",
    "\n",
    "**Adım 1:** Selenium'un Webdriver sınıfını kullanarak bir adet options adında ChromeOptions tanımlayınız."
   ]
  },
  {
   "cell_type": "code",
   "execution_count": 1,
   "id": "a560cd42",
   "metadata": {},
   "outputs": [],
   "source": [
    "from selenium import webdriver\n",
    "options = webdriver.ChromeOptions()"
   ]
  },
  {
   "cell_type": "markdown",
   "id": "9a5ea8a8",
   "metadata": {},
   "source": [
    "**Adım 2:** Tanımladığınız options’a tam ekran özelliği ekleyiniz."
   ]
  },
  {
   "cell_type": "code",
   "execution_count": 2,
   "id": "14843248",
   "metadata": {},
   "outputs": [],
   "source": [
    "options.add_argument(\"--start-maximized\")"
   ]
  },
  {
   "cell_type": "markdown",
   "id": "a2429043",
   "metadata": {},
   "source": [
    "**Adım 3:** Bir önceki adımlarda hazırladığınız options’ı da kullanarak bir adet driver adında Chrome tarayıcısı oluşturunuz."
   ]
  },
  {
   "cell_type": "code",
   "execution_count": 3,
   "id": "6acb6364",
   "metadata": {},
   "outputs": [],
   "source": [
    "driver = webdriver.Chrome(options)"
   ]
  },
  {
   "cell_type": "markdown",
   "id": "0e123899",
   "metadata": {},
   "source": [
    "#### Görev 2: Ana Sayfanın İncelenmesi ve Kazınması\n",
    "\n",
    "**Adım 1:** Ana Sayfayı driver ile açınız ve inceleyiniz."
   ]
  },
  {
   "cell_type": "code",
   "execution_count": 4,
   "id": "3f93715e",
   "metadata": {},
   "outputs": [],
   "source": [
    "import time\n",
    "sleep_time = 2"
   ]
  },
  {
   "cell_type": "code",
   "execution_count": 5,
   "id": "c419e7f9",
   "metadata": {},
   "outputs": [],
   "source": [
    "driver.get(\"https://books.toscrape.com/\")\n",
    "time.sleep(sleep_time)"
   ]
  },
  {
   "cell_type": "markdown",
   "id": "0e1c09bd",
   "metadata": {},
   "source": [
    "**Adım 2:** \"Travel\" ile \"Nonfiction\" kategori sayfalarının linklerini tutan elementleri tek seferde bulan XPath sorgusunu yazınız."
   ]
  },
  {
   "cell_type": "code",
   "execution_count": 6,
   "id": "d5acd418",
   "metadata": {},
   "outputs": [],
   "source": [
    "category_elements_xpath = \"//a[contains(text(), 'Travel') or contains(text(), 'Nonfiction')]\""
   ]
  },
  {
   "cell_type": "markdown",
   "id": "78df5ec0",
   "metadata": {},
   "source": [
    "**Adım 3:** XPath sorgusu ile yakaladığınız elementleri driver'ı kullanarak bulunuz ve kategori detay linklerini kazıyınız."
   ]
  },
  {
   "cell_type": "code",
   "execution_count": 7,
   "id": "29369e86",
   "metadata": {},
   "outputs": [],
   "source": [
    "from selenium.webdriver.common.by import By\n",
    "category_elements = driver.find_elements(By.XPATH, category_elements_xpath)"
   ]
  },
  {
   "cell_type": "code",
   "execution_count": 8,
   "id": "e0d331d3",
   "metadata": {},
   "outputs": [
    {
     "name": "stdout",
     "output_type": "stream",
     "text": [
      "['https://books.toscrape.com/catalogue/category/books/travel_2/index.html', 'https://books.toscrape.com/catalogue/category/books/nonfiction_13/index.html']\n"
     ]
    }
   ],
   "source": [
    "category_urls = [element.get_attribute(\"href\") for element in category_elements]\n",
    "\n",
    "print(category_urls)"
   ]
  },
  {
   "cell_type": "markdown",
   "id": "bb7a9160",
   "metadata": {},
   "source": [
    "#### Görev 3: Kategori Sayfasının İncelenmesi ve Kazınması\n",
    "\n",
    "**Adım 1:** Herhangi bir detay sayfasına girip o sayfadaki kitapların detay linkini tutan elementleri yakalayan XPath sorgusunu yazınız."
   ]
  },
  {
   "cell_type": "code",
   "execution_count": 9,
   "id": "a7b3ba63",
   "metadata": {},
   "outputs": [],
   "source": [
    "driver.get(category_urls[0])\n",
    "time.sleep(sleep_time)"
   ]
  },
  {
   "cell_type": "code",
   "execution_count": 10,
   "id": "4a9e28c8",
   "metadata": {},
   "outputs": [],
   "source": [
    "book_elements_xpath = \"//div[@class = 'image_container']//a\""
   ]
  },
  {
   "cell_type": "markdown",
   "id": "b3c3219b",
   "metadata": {},
   "source": [
    "**Adım 2:** driver ile XPath sorgusunu kullanarak elementleri yakalayınız ve detay linklerini çıkarınız."
   ]
  },
  {
   "cell_type": "code",
   "execution_count": 11,
   "id": "802eb2e1",
   "metadata": {},
   "outputs": [
    {
     "name": "stdout",
     "output_type": "stream",
     "text": [
      "['https://books.toscrape.com/catalogue/its-only-the-himalayas_981/index.html', 'https://books.toscrape.com/catalogue/full-moon-over-noahs-ark-an-odyssey-to-mount-ararat-and-beyond_811/index.html', 'https://books.toscrape.com/catalogue/see-america-a-celebration-of-our-national-parks-treasured-sites_732/index.html', 'https://books.toscrape.com/catalogue/vagabonding-an-uncommon-guide-to-the-art-of-long-term-world-travel_552/index.html', 'https://books.toscrape.com/catalogue/under-the-tuscan-sun_504/index.html', 'https://books.toscrape.com/catalogue/a-summer-in-europe_458/index.html', 'https://books.toscrape.com/catalogue/the-great-railway-bazaar_446/index.html', 'https://books.toscrape.com/catalogue/a-year-in-provence-provence-1_421/index.html', 'https://books.toscrape.com/catalogue/the-road-to-little-dribbling-adventures-of-an-american-in-britain-notes-from-a-small-island-2_277/index.html', 'https://books.toscrape.com/catalogue/neither-here-nor-there-travels-in-europe_198/index.html', 'https://books.toscrape.com/catalogue/1000-places-to-see-before-you-die_1/index.html']\n"
     ]
    }
   ],
   "source": [
    "book_elements = driver.find_elements(By.XPATH, book_elements_xpath)\n",
    "\n",
    "book_urls = [element.get_attribute(\"href\") for element in book_elements]\n",
    "\n",
    "print(book_urls)"
   ]
  },
  {
   "cell_type": "code",
   "execution_count": 12,
   "id": "11e44b07",
   "metadata": {},
   "outputs": [
    {
     "name": "stdout",
     "output_type": "stream",
     "text": [
      "11\n"
     ]
    }
   ],
   "source": [
    "print(len(book_urls)) # 11 adet kitap yakalayabildik."
   ]
  },
  {
   "cell_type": "markdown",
   "id": "b6022141",
   "metadata": {},
   "source": [
    "**Adım 3:** Sayfalandırma (Pagination) işlemleri için butonlara tıklamak yerine sayfa linklerini manipüle ediniz. İpucu: (Sayfa değiştikçe url'de ne değişiyor gözlemleyiniz)."
   ]
  },
  {
   "cell_type": "code",
   "execution_count": 13,
   "id": "281dfc0f",
   "metadata": {},
   "outputs": [],
   "source": [
    "max_pagination = 3\n",
    "url = category_urls[0]\n",
    "book_urls = []"
   ]
  },
  {
   "cell_type": "code",
   "execution_count": 14,
   "id": "9a9b2257",
   "metadata": {},
   "outputs": [
    {
     "name": "stdout",
     "output_type": "stream",
     "text": [
      "['https://books.toscrape.com/catalogue/its-only-the-himalayas_981/index.html', 'https://books.toscrape.com/catalogue/full-moon-over-noahs-ark-an-odyssey-to-mount-ararat-and-beyond_811/index.html', 'https://books.toscrape.com/catalogue/see-america-a-celebration-of-our-national-parks-treasured-sites_732/index.html', 'https://books.toscrape.com/catalogue/vagabonding-an-uncommon-guide-to-the-art-of-long-term-world-travel_552/index.html', 'https://books.toscrape.com/catalogue/under-the-tuscan-sun_504/index.html', 'https://books.toscrape.com/catalogue/a-summer-in-europe_458/index.html', 'https://books.toscrape.com/catalogue/the-great-railway-bazaar_446/index.html', 'https://books.toscrape.com/catalogue/a-year-in-provence-provence-1_421/index.html', 'https://books.toscrape.com/catalogue/the-road-to-little-dribbling-adventures-of-an-american-in-britain-notes-from-a-small-island-2_277/index.html', 'https://books.toscrape.com/catalogue/neither-here-nor-there-travels-in-europe_198/index.html', 'https://books.toscrape.com/catalogue/1000-places-to-see-before-you-die_1/index.html']\n"
     ]
    }
   ],
   "source": [
    "for i in range(1, max_pagination):\n",
    "    update_url = url if i == 1 else url.replace(\"index\", f\"page-{i}\")\n",
    "    driver.get(update_url)\n",
    "    book_elements = driver.find_elements(By.XPATH, book_elements_xpath)\n",
    "    \n",
    "    temp_urls = [element.get_attribute(\"href\") for element in book_elements]\n",
    "    book_urls.extend(temp_urls)\n",
    "    \n",
    "print(book_urls)"
   ]
  },
  {
   "cell_type": "code",
   "execution_count": 15,
   "id": "e4ae85c9",
   "metadata": {},
   "outputs": [
    {
     "name": "stdout",
     "output_type": "stream",
     "text": [
      "11\n"
     ]
    }
   ],
   "source": [
    "print(len(book_urls))"
   ]
  },
  {
   "cell_type": "markdown",
   "id": "5b5a74aa",
   "metadata": {},
   "source": [
    "**Adım 4:** Sayfalandırmanın sonuna geldiğinizi anlamak adına kategorinin 999. sayfasına giderek karşınıza çıkan sayfayı inceleyiniz. \n",
    "\n",
    "**ipucu:** ..../category/books/nonfiction_13/page-999.html"
   ]
  },
  {
   "cell_type": "markdown",
   "id": "3a542f03",
   "metadata": {},
   "source": [
    "**Adım 5:** Bir önceki adımdaki incelemenin sonucunda sayfalandırma işleminde sonsuz döngüye girmemek adına bu durumu kontrol ediniz.\n",
    "\n",
    "**ipucu:** text'inde 404 içeren bir h1 var mı?) veya (if not book_elements) ya da (len(book_elemets) <= 0"
   ]
  },
  {
   "cell_type": "code",
   "execution_count": 16,
   "id": "feb4be82",
   "metadata": {},
   "outputs": [],
   "source": [
    "max_pagination = 3\n",
    "url = category_urls[1]\n",
    "book_urls = []"
   ]
  },
  {
   "cell_type": "code",
   "execution_count": 17,
   "id": "92ccfd99",
   "metadata": {},
   "outputs": [
    {
     "name": "stdout",
     "output_type": "stream",
     "text": [
      "['https://books.toscrape.com/catalogue/worlds-elsewhere-journeys-around-shakespeares-globe_972/index.html', 'https://books.toscrape.com/catalogue/the-five-love-languages-how-to-express-heartfelt-commitment-to-your-mate_969/index.html', 'https://books.toscrape.com/catalogue/reasons-to-stay-alive_959/index.html', 'https://books.toscrape.com/catalogue/higherselfie-wake-up-your-life-free-your-soul-find-your-tribe_957/index.html', 'https://books.toscrape.com/catalogue/unseen-city-the-majesty-of-pigeons-the-discreet-charm-of-snails-other-wonders-of-the-urban-wilderness_952/index.html', 'https://books.toscrape.com/catalogue/throwing-rocks-at-the-google-bus-how-growth-became-the-enemy-of-prosperity_948/index.html', 'https://books.toscrape.com/catalogue/the-life-changing-magic-of-tidying-up-the-japanese-art-of-decluttering-and-organizing_936/index.html', 'https://books.toscrape.com/catalogue/the-gutsy-girl-escapades-for-your-life-of-epic-adventure_934/index.html', 'https://books.toscrape.com/catalogue/the-electric-pencil-drawings-from-inside-state-hospital-no-3_933/index.html', 'https://books.toscrape.com/catalogue/spark-joy-an-illustrated-master-class-on-the-art-of-organizing-and-tidying-up_927/index.html', 'https://books.toscrape.com/catalogue/reskilling-america-learning-to-labor-in-the-twenty-first-century_922/index.html', 'https://books.toscrape.com/catalogue/in-the-country-we-love-my-family-divided_901/index.html', 'https://books.toscrape.com/catalogue/everydata-the-misinformation-hidden-in-the-little-data-you-consume-every-day_891/index.html', 'https://books.toscrape.com/catalogue/call-the-nurse-true-stories-of-a-country-nurse-on-a-scottish-isle_885/index.html', 'https://books.toscrape.com/catalogue/algorithms-to-live-by-the-computer-science-of-human-decisions_880/index.html', 'https://books.toscrape.com/catalogue/the-power-of-now-a-guide-to-spiritual-enlightenment_855/index.html', 'https://books.toscrape.com/catalogue/the-omnivores-dilemma-a-natural-history-of-four-meals_854/index.html', 'https://books.toscrape.com/catalogue/the-genius-of-birds_843/index.html', 'https://books.toscrape.com/catalogue/the-artists-way-a-spiritual-path-to-higher-creativity_839/index.html', 'https://books.toscrape.com/catalogue/so-youve-been-publicly-shamed_832/index.html', 'https://books.toscrape.com/catalogue/daring-greatly-how-the-courage-to-be-vulnerable-transforms-the-way-we-live-love-parent-and-lead_799/index.html', 'https://books.toscrape.com/catalogue/big-magic-creative-living-beyond-fear_796/index.html', 'https://books.toscrape.com/catalogue/becoming-wise-an-inquiry-into-the-mystery-and-art-of-living_795/index.html', 'https://books.toscrape.com/catalogue/agnostic-a-spirited-manifesto_786/index.html', 'https://books.toscrape.com/catalogue/whole-lotta-creativity-going-on-60-fun-and-unusual-exercises-to-awaken-and-strengthen-your-creativity_780/index.html', 'https://books.toscrape.com/catalogue/whats-it-like-in-space-stories-from-astronauts-whove-been-there_779/index.html', 'https://books.toscrape.com/catalogue/the-year-of-magical-thinking_770/index.html', 'https://books.toscrape.com/catalogue/the-literature-book-big-ideas-simply-explained_755/index.html', 'https://books.toscrape.com/catalogue/the-bad-ass-librarians-of-timbuktu-and-their-race-to-save-the-worlds-most-precious-manuscripts_745/index.html', 'https://books.toscrape.com/catalogue/swell-a-year-of-waves_740/index.html', 'https://books.toscrape.com/catalogue/no-dream-is-too-high-life-lessons-from-a-man-who-walked-on-the-moon_722/index.html', 'https://books.toscrape.com/catalogue/looking-for-lovely-collecting-the-moments-that-matter_710/index.html', 'https://books.toscrape.com/catalogue/let-it-out-a-journey-through-journaling_708/index.html', 'https://books.toscrape.com/catalogue/hamilton-the-revolution_699/index.html', 'https://books.toscrape.com/catalogue/far-away-places-on-the-brink-of-change-seven-continents-twenty-five-years_694/index.html', 'https://books.toscrape.com/catalogue/eaternity-more-than-150-deliciously-easy-vegan-recipes-for-a-long-healthy-satisfied-joyful-life_689/index.html', 'https://books.toscrape.com/catalogue/buying-in-the-secret-dialogue-between-what-we-buy-and-who-we-are_670/index.html', 'https://books.toscrape.com/catalogue/brain-on-fire-my-month-of-madness_669/index.html', 'https://books.toscrape.com/catalogue/abstract-city_658/index.html', 'https://books.toscrape.com/catalogue/13-hours-the-inside-account-of-what-really-happened-in-benghazi_645/index.html']\n"
     ]
    }
   ],
   "source": [
    "for i in range(1, max_pagination):\n",
    "    update_url = url if i == 1 else url.replace(\"index\", f\"page-{i}\")\n",
    "    driver.get(update_url)\n",
    "    book_elements = driver.find_elements(By.XPATH, book_elements_xpath)\n",
    "    if not book_elements:\n",
    "        break\n",
    "    temp_urls = [element.get_attribute(\"href\") for element in book_elements]\n",
    "    book_urls.extend(temp_urls)\n",
    "    \n",
    "print(book_urls)"
   ]
  },
  {
   "cell_type": "code",
   "execution_count": 18,
   "id": "894b01a6",
   "metadata": {},
   "outputs": [
    {
     "name": "stdout",
     "output_type": "stream",
     "text": [
      "40\n"
     ]
    }
   ],
   "source": [
    "print(len(book_urls))"
   ]
  },
  {
   "cell_type": "markdown",
   "id": "f68b2952",
   "metadata": {},
   "source": [
    "#### Görev 4: Ürün Detay Sayfasının Kazınması\n",
    "\n",
    "**Adım 1:** Herhangi bir ürünün detay sayfasına girip class attribute'ı content olan div elementini yakalayınız."
   ]
  },
  {
   "cell_type": "code",
   "execution_count": 19,
   "id": "751c6a41",
   "metadata": {},
   "outputs": [],
   "source": [
    "driver.get(book_urls[0])\n",
    "time.sleep(sleep_time)"
   ]
  },
  {
   "cell_type": "code",
   "execution_count": 20,
   "id": "912a6d5d",
   "metadata": {},
   "outputs": [],
   "source": [
    "content_div = driver.find_elements(By.XPATH, \"//div[@class ='content']\")"
   ]
  },
  {
   "cell_type": "markdown",
   "id": "c50eca50",
   "metadata": {},
   "source": [
    "**Adım 2:** Yakaladığınız divin html'ini alınız ve inner_html adlı değişkene atayınız."
   ]
  },
  {
   "cell_type": "code",
   "execution_count": 21,
   "id": "dcb868b5",
   "metadata": {},
   "outputs": [],
   "source": [
    "inner_html = content_div[0].get_attribute(\"innerHTML\")"
   ]
  },
  {
   "cell_type": "markdown",
   "id": "ab9ce52b",
   "metadata": {},
   "source": [
    "**Adım 3:** inner_html ile soup objesi oluşturunuz."
   ]
  },
  {
   "cell_type": "code",
   "execution_count": 22,
   "id": "fec96763",
   "metadata": {},
   "outputs": [],
   "source": [
    "from bs4 import BeautifulSoup\n",
    "\n",
    "soup = BeautifulSoup(inner_html, \"html.parser\")"
   ]
  },
  {
   "cell_type": "markdown",
   "id": "3a2def69",
   "metadata": {},
   "source": [
    "**Adım 4:** Oluşturduğunuz soup objesi ile şu bilgileri kazıyınız:\n",
    "\n",
    "▪ Kitap Adı\n",
    "\n",
    "▪ Kitap Fiyatı\n",
    "\n",
    "▪ Kitap Yıldız Sayısı\n",
    "\n",
    "▪ Kitap Açıklaması\n",
    "\n",
    "▪ Product Information Başlığı altında kalan tablodaki bilgiler."
   ]
  },
  {
   "cell_type": "code",
   "execution_count": 23,
   "id": "ae0af821",
   "metadata": {},
   "outputs": [],
   "source": [
    "# Kitap Adı:\n",
    "\n",
    "name_elem = soup.find(\"h1\")\n",
    "book_name = name_elem.text"
   ]
  },
  {
   "cell_type": "code",
   "execution_count": 24,
   "id": "74166ac1",
   "metadata": {},
   "outputs": [],
   "source": [
    "# Kitap Fiyatı:\n",
    "\n",
    "price_elem = soup.find(\"p\", attrs = {\"class\": \"price_color\"})\n",
    "book_price = price_elem.text"
   ]
  },
  {
   "cell_type": "code",
   "execution_count": 25,
   "id": "2ed8085f",
   "metadata": {},
   "outputs": [],
   "source": [
    "# Kitap Yıldız Sayısı:\n",
    "\n",
    "import re\n",
    "regex = re.compile('^star-rating ')\n",
    "star_elem = soup.find(\"p\", attrs = {\"class\": regex})\n",
    "book_star_count = star_elem[\"class\"][-1]"
   ]
  },
  {
   "cell_type": "code",
   "execution_count": 26,
   "id": "b7a68d81",
   "metadata": {},
   "outputs": [],
   "source": [
    "# Kitap Açıklaması:\n",
    "\n",
    "desc_elem = soup.find(\"div\", attrs = {\"id\": \"product_description\"}).find_next_sibling()\n",
    "book_desc = desc_elem.text"
   ]
  },
  {
   "cell_type": "code",
   "execution_count": 27,
   "id": "87b8b3ef",
   "metadata": {},
   "outputs": [],
   "source": [
    "# Product Information başlığı altında kalan tablodaki bilgiler:\n",
    "\n",
    "product_info = {}\n",
    "table_rows = soup.find(\"table\").find_all(\"tr\")\n",
    "\n",
    "for row in table_rows:\n",
    "    key = row.find(\"th\").text\n",
    "    value = row.find(\"td\").text\n",
    "    product_info[key] = value"
   ]
  },
  {
   "cell_type": "markdown",
   "id": "ec2ac387",
   "metadata": {},
   "source": [
    "#### Görev 5: Fonksiyonlaştırma ve Tüm Süreci Otamatize Etme"
   ]
  },
  {
   "cell_type": "markdown",
   "id": "55804c2c",
   "metadata": {},
   "source": [
    "**Adım 1:** İşlemleri fonksiyonlaştırınız. "
   ]
  },
  {
   "cell_type": "code",
   "execution_count": 28,
   "id": "a5ea3eb3",
   "metadata": {},
   "outputs": [],
   "source": [
    "def initialize_driver():\n",
    "    options = webdriver.ChromeOptions()\n",
    "    options.add_argument(\"--start-maximized\");\n",
    "    driver = webdriver.Chrome(options)\n",
    "    return driver"
   ]
  },
  {
   "cell_type": "code",
   "execution_count": 29,
   "id": "7c86098c",
   "metadata": {},
   "outputs": [],
   "source": [
    "def get_travel_and_nonfiction_category_urls(driver, url):\n",
    "    \n",
    "    driver.get(url)\n",
    "    time.sleep(sleep_time)\n",
    "    \n",
    "    category_elements_xpath = \"//a[contains(text(), 'Travel') or contains(text(), 'Nonfiction')]\"\n",
    "    \n",
    "    category_elements = driver.find_elements(By.XPATH, category_elements_xpath)\n",
    "    category_urls = [element.get_attribute(\"href\") for element in category_elements]\n",
    "    \n",
    "    return category_urls"
   ]
  },
  {
   "cell_type": "code",
   "execution_count": 30,
   "id": "f640ae28",
   "metadata": {},
   "outputs": [],
   "source": [
    "def get_book_urls(driver, url):\n",
    "    \n",
    "    max_pagination = 3\n",
    "    \n",
    "    book_urls = []\n",
    "    book_elements_xpath = \"//div[@class = 'image_container']//a\"\n",
    "    \n",
    "    for i in range(1, max_pagination):\n",
    "        update_url = url if i == 1 else url.replace(\"index\", f\"page-{i}\")\n",
    "        driver.get(update_url)\n",
    "        book_elements = driver.find_elements(By.XPATH, book_elements_xpath)\n",
    "    \n",
    "        # Controller of pagination\n",
    "        \n",
    "        if not book_elements:\n",
    "            break\n",
    "        temp_urls = [element.get_attribute(\"href\") for element in book_elements]\n",
    "        book_urls.extend(temp_urls)\n",
    "        \n",
    "    return book_urls "
   ]
  },
  {
   "cell_type": "code",
   "execution_count": 31,
   "id": "a3c1f767",
   "metadata": {},
   "outputs": [],
   "source": [
    "def get_book_detail(driver, url):\n",
    "    \n",
    "    driver.get(url)\n",
    "    time.sleep(sleep_time)\n",
    "    content_div = driver.find_elements(By.XPATH, \"//div[@class ='content']\")\n",
    "    \n",
    "    inner_html = content_div[0].get_attribute(\"innerHTML\")\n",
    "    \n",
    "    from bs4 import BeautifulSoup\n",
    "    soup = BeautifulSoup(inner_html, \"html.parser\")\n",
    "    \n",
    "    name_elem = soup.find(\"h1\")\n",
    "    book_name = name_elem.text\n",
    "    \n",
    "    price_elem = soup.find(\"p\", attrs = {\"class\": \"price_color\"})\n",
    "    book_price = price_elem.text\n",
    "    \n",
    "    import re\n",
    "    regex = re.compile('^star-rating ')\n",
    "    star_elem = soup.find(\"p\", attrs = {\"class\": regex})\n",
    "    book_str_count = star_elem[\"class\"][-1]\n",
    "    \n",
    "    desc_elem = soup.find(\"div\", attrs = {\"id\": \"product_description\"}).find_next_sibling()\n",
    "    book_des = desc_elem.text\n",
    "    \n",
    "    product_info = {}\n",
    "    table_rows = soup.find(\"table\").find_all(\"tr\")\n",
    "    for row in table_rows:\n",
    "        key = row.find(\"th\").text\n",
    "        value = row.find(\"td\").text\n",
    "        product_info[key] = value\n",
    "    \n",
    "    return {'book_name': book_name, 'book_price': book_price, 'book_star_count': book_star_count,\n",
    "            'bbok_desc': book_desc, **product_info}"
   ]
  },
  {
   "cell_type": "markdown",
   "id": "ecbcfe2e",
   "metadata": {},
   "source": [
    "**Adım 2:** Süreci otamatize ediniz."
   ]
  },
  {
   "cell_type": "code",
   "execution_count": 32,
   "id": "8c381577",
   "metadata": {},
   "outputs": [],
   "source": [
    "import time\n",
    "from selenium import webdriver\n",
    "from selenium.webdriver.common.by import By\n",
    "\n",
    "sleep_time = 0.25\n",
    "\n",
    "def main():\n",
    "    base_url = \"https://books.toscrape.com/\"\n",
    "    driver = initialize_driver()\n",
    "    category_urls = get_travel_and_nonfiction_category_urls(driver, base_url)\n",
    "    data = []\n",
    "    for cat_url in category_urls:\n",
    "        book_urls = get_book_urls(driver, cat_url)\n",
    "        for book_url in book_urls:\n",
    "            book_data = get_book_detail(driver, book_url)\n",
    "            book_data[\"cat_url\"] = cat_url\n",
    "            data.append(book_data)\n",
    "            \n",
    "    len(data)\n",
    "    \n",
    "    # Optional\n",
    "    import pandas as pd\n",
    "    df = pd.DataFrame(data)\n",
    "    \n",
    "    return df"
   ]
  },
  {
   "cell_type": "code",
   "execution_count": 33,
   "id": "6bf1d700",
   "metadata": {},
   "outputs": [
    {
     "name": "stdout",
     "output_type": "stream",
     "text": [
      "                                           book_name book_price  \\\n",
      "0                            It's Only the Himalayas     £45.17   \n",
      "1  Full Moon over Noah’s Ark: An Odyssey to Mount...     £49.43   \n",
      "2  See America: A Celebration of Our National Par...     £48.87   \n",
      "3  Vagabonding: An Uncommon Guide to the Art of L...     £36.94   \n",
      "4                               Under the Tuscan Sun     £37.33   \n",
      "\n",
      "  book_star_count                                          bbok_desc  \\\n",
      "0            Five  Anti-apartheid activist, Bollywood screenwrite...   \n",
      "1            Five  Anti-apartheid activist, Bollywood screenwrite...   \n",
      "2            Five  Anti-apartheid activist, Bollywood screenwrite...   \n",
      "3            Five  Anti-apartheid activist, Bollywood screenwrite...   \n",
      "4            Five  Anti-apartheid activist, Bollywood screenwrite...   \n",
      "\n",
      "                UPC Product Type Price (excl. tax) Price (incl. tax)    Tax  \\\n",
      "0  a22124811bfa8350        Books            £45.17            £45.17  £0.00   \n",
      "1  ce60436f52c5ee68        Books            £49.43            £49.43  £0.00   \n",
      "2  f9705c362f070608        Books            £48.87            £48.87  £0.00   \n",
      "3  1809259a5a5f1d8d        Books            £36.94            £36.94  £0.00   \n",
      "4  a94350ee74deaa07        Books            £37.33            £37.33  £0.00   \n",
      "\n",
      "              Availability Number of reviews  \\\n",
      "0  In stock (19 available)                 0   \n",
      "1  In stock (15 available)                 0   \n",
      "2  In stock (14 available)                 0   \n",
      "3   In stock (8 available)                 0   \n",
      "4   In stock (7 available)                 0   \n",
      "\n",
      "                                             cat_url  \n",
      "0  https://books.toscrape.com/catalogue/category/...  \n",
      "1  https://books.toscrape.com/catalogue/category/...  \n",
      "2  https://books.toscrape.com/catalogue/category/...  \n",
      "3  https://books.toscrape.com/catalogue/category/...  \n",
      "4  https://books.toscrape.com/catalogue/category/...  \n",
      "(51, 12)\n"
     ]
    }
   ],
   "source": [
    "df = main()\n",
    "print(df.head())\n",
    "print(df.shape)"
   ]
  },
  {
   "cell_type": "code",
   "execution_count": null,
   "id": "1d2db6db",
   "metadata": {},
   "outputs": [],
   "source": []
  }
 ],
 "metadata": {
  "kernelspec": {
   "display_name": "Python 3 (ipykernel)",
   "language": "python",
   "name": "python3"
  },
  "language_info": {
   "codemirror_mode": {
    "name": "ipython",
    "version": 3
   },
   "file_extension": ".py",
   "mimetype": "text/x-python",
   "name": "python",
   "nbconvert_exporter": "python",
   "pygments_lexer": "ipython3",
   "version": "3.9.13"
  }
 },
 "nbformat": 4,
 "nbformat_minor": 5
}
